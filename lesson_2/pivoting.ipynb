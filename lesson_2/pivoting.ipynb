{
 "cells": [
  {
   "cell_type": "markdown",
   "metadata": {},
   "source": [
    "# Pivoting\n",
    "\n",
    "A pivot is a quantity whose distribution does not depend on the parameters of the p.d.f. under consideration"
   ]
  },
  {
   "cell_type": "markdown",
   "metadata": {},
   "source": [
    "Consider a Gaussian distribution, $Gaus(\\mu, \\sigma^2)$.\n",
    "\n"
   ]
  },
  {
   "cell_type": "code",
   "execution_count": 45,
   "metadata": {},
   "outputs": [],
   "source": [
    "%matplotlib inline\n",
    "from matplotlib import pyplot as plt\n",
    "import numpy as np\n",
    "import math"
   ]
  },
  {
   "cell_type": "code",
   "execution_count": 46,
   "metadata": {},
   "outputs": [],
   "source": [
    "\n",
    "def pdf(data, mu, sigma):\n",
    "    # write a gaussian pdf. assume data is an array. You can then sum in the exponent of the gaussian with .sum()\n",
    "    return result\n"
   ]
  },
  {
   "cell_type": "markdown",
   "metadata": {},
   "source": [
    "Let's consider a test statistic $g(x) = \\frac{1}{N} \\sum x_i$ and plot its distribution for several values of $\\mu$, fixing $\\sigma=1$"
   ]
  },
  {
   "cell_type": "code",
   "execution_count": null,
   "metadata": {},
   "outputs": [],
   "source": [
    "# A range of values for mu\n",
    "mu=np.linspace(-10,10,num=5)\n",
    "\n",
    "\n",
    "#y = [ np.mean(np.random.normal(mu_i, 1, size=1000)) for mu_i in mu ]\n",
    "np.random.seed(0)\n",
    "for mu_i in mu:\n",
    "    # Generate the sampling distribution of the mean of some data\n",
    "    # - a large number of times (about 10k):\n",
    "    #      - generate 1000 data points from a Gaus(mu_i, 1) and compute the mean of the data\n",
    "    # Plot the sampling distribution of g(x), let's call it y.\n",
    "    # To estimate if it changes when mu changes, maybe you can print its mean and variance\n",
    "    print('Mean',np.mean(y))\n",
    "    print('Variance', np.var(y))\n",
    "    plt.show()"
   ]
  },
  {
   "cell_type": "markdown",
   "metadata": {},
   "source": [
    "Now let's consider the pivot constituted by the Student's $t$ distribution defined as\n",
    "\n",
    "$t = \\frac{\\bar{x}-mu}{var(x)/\\sqrt{N}}$"
   ]
  },
  {
   "cell_type": "code",
   "execution_count": 32,
   "metadata": {},
   "outputs": [],
   "source": [
    "def pivot(data, mu):\n",
    "    # write down the studen't t distribution.\n",
    "    # You will need to pass mu to it, whereas the other two parameters are computed from the data themselves    \n",
    "    "
   ]
  },
  {
   "cell_type": "markdown",
   "metadata": {},
   "source": [
    "Now let's plot the pivot quantity as a function of the parameter mu"
   ]
  },
  {
   "cell_type": "code",
   "execution_count": null,
   "metadata": {},
   "outputs": [],
   "source": [
    "# A range of values for mu\n",
    "mu=np.linspace(-10,10,num=5)\n",
    "\n",
    "\n",
    "#y = [ np.mean(np.random.normal(mu_i, 1, size=1000)) for mu_i in mu ]\n",
    "np.random.seed(0)\n",
    "for mu_i in mu:\n",
    "    # Generate the sampling distribution of the mean of some data\n",
    "    # - a large number of times (about 10k):\n",
    "    #      - generate 1000 data points from a Gaus(mu_i, 1) and compute the t statistic of the data using the pivot function\n",
    "    # Plot the sampling distribution of g(x), let's call it y.\n",
    "    # To estimate if it changes when mu changes, maybe you can print its mean and variance\n",
    "    print('Mean',np.mean(y))\n",
    "    print('Variance', np.var(y))\n",
    "    plt.show()"
   ]
  },
  {
   "cell_type": "code",
   "execution_count": null,
   "metadata": {},
   "outputs": [],
   "source": []
  }
 ],
 "metadata": {
  "kernelspec": {
   "display_name": "Python 3",
   "language": "python",
   "name": "python3"
  },
  "language_info": {
   "codemirror_mode": {
    "name": "ipython",
    "version": 3
   },
   "file_extension": ".py",
   "mimetype": "text/x-python",
   "name": "python",
   "nbconvert_exporter": "python",
   "pygments_lexer": "ipython3",
   "version": "3.8.6"
  }
 },
 "nbformat": 4,
 "nbformat_minor": 4
}
