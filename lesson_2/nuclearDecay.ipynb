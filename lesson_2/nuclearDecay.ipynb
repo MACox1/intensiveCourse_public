{
 "cells": [
  {
   "cell_type": "markdown",
   "metadata": {},
   "source": [
    "# Nuclear Decay exercise\n",
    "\n",
    "Copyright (c) 2019, Pietro Vischia pietro.vischia@cern.ch\n"
   ]
  },
  {
   "cell_type": "markdown",
   "metadata": {},
   "source": [
    "Let's model the likelihood function for the case of a nuclear decay.\n",
    "\n",
    "The pdf is a function of the observed time $t$ and the parameter $\\lambda$ as\n",
    "\n",
    "$p(t | \\lambda) = \\lambda e^{-\\lambda t}$\n",
    "\n",
    "or, defining the lifetime as $\\tau = 1/\\lambda$,\n",
    "\n",
    "$p(t | \\tau) = \\frac{1}{\\tau} e^{-t/\\tau}$"
   ]
  },
  {
   "cell_type": "code",
   "execution_count": 5,
   "metadata": {},
   "outputs": [],
   "source": [
    "import numpy as np\n",
    "%matplotlib inline\n",
    "import matplotlib.pyplot as plt"
   ]
  },
  {
   "cell_type": "markdown",
   "metadata": {},
   "source": [
    "Let's start by writing down the model pdf"
   ]
  },
  {
   "cell_type": "code",
   "execution_count": 6,
   "metadata": {},
   "outputs": [],
   "source": [
    "def thepdf(t,lam): # cannot use lambda because it's a reserved word in python\n",
    "    # here goes the pdf"
   ]
  },
  {
   "cell_type": "markdown",
   "metadata": {},
   "source": [
    "Now let's define a suitable range for the parameter $\\lambda$ for us to investigate"
   ]
  },
  {
   "cell_type": "code",
   "execution_count": 7,
   "metadata": {},
   "outputs": [],
   "source": [
    "lambdas = np.linspace(0, 5, num=10000)"
   ]
  },
  {
   "cell_type": "markdown",
   "metadata": {},
   "source": [
    "The likelihood function is obtained from the model pdf by simply computing it as a function of the parameter, for a fixed observed dataset,\n",
    "\n",
    "$\\mathcal{L}(\\lambda, t_{obs}) = p(t | \\lambda)|_{t=t_{obs}}$\n",
    "\n",
    "Note how we write the likelihood as $\\mathcal{L}(\\lambda, t_{obs})$ rather than $\\mathcal{L}(\\lambda | t_{obs})$.\n",
    "Some authors, typically also myself, prefer to keep the conditional symbol, to remark that the likelihood is expressed strictly for the observed dataset $t_{obs}$.\n",
    "\n",
    "Here we assume that we have performed the experiment and measured the decay time, obtaining the value \n",
    "\n",
    "$t_{obs}=1$\n",
    "\n",
    "We fix tobs externally to the function, to remark that when we manipulate the likelihood we cannot change $t_{obs}$, which is fixed by the experiment."
   ]
  },
  {
   "cell_type": "code",
   "execution_count": 41,
   "metadata": {},
   "outputs": [],
   "source": [
    "tobs=1\n",
    "\n",
    "def L(lam):\n",
    "    #define the likelihood for tobs\n",
    "\n",
    "# Let's also compute the log likelihood, for easiness of computation\n",
    "\n",
    "def lnL(lam):\n",
    "    #define the log-likelihood for tobs"
   ]
  },
  {
   "cell_type": "code",
   "execution_count": null,
   "metadata": {},
   "outputs": [],
   "source": [
    "# Plot it\n",
    "\n",
    "plt.plot(lambdas, -2*lnL(lambdas))\n",
    "plt.ylabel('-2 ln(L) [a.u.]')\n",
    "plt.xlabel('$\\lambda$')\n",
    "plt.title('Nuclear decay with $t_{obs}=1$')"
   ]
  },
  {
   "cell_type": "markdown",
   "metadata": {},
   "source": [
    "Let's now try and see what happens when we have a different number of observations, i.e. if we repeat the experiment many times to obtain a certain amount $N$ of values for $t_{obs}$.\n",
    "\n",
    "To do that, we must write the likelihood for the parameter $\\lambda$ when we collect many observation.\n",
    "Luckily, if the observations are independent, we can factorize the joint likelihood:\n",
    "\n",
    "$\\mathcal{L}(t_1,..., t_{N}, \\lambda)= \\prod_{i=1}^{N} \\mathcal{L}(t_i, \\lambda)$\n",
    "\n",
    "Since we are at it, let's do this for different amounts of observations, and look at how the likelihood changes when we add more observations.\n",
    "\n",
    "We'll first assume that we have observed a given number of times the value $t_{obs})=1$.\n",
    "\n",
    "We want to compare the likelihood computed starting from the observations, that is a priori non-symmetric, with its parabolic approximation."
   ]
  },
  {
   "cell_type": "code",
   "execution_count": null,
   "metadata": {},
   "outputs": [],
   "source": [
    "Nobs = [1, 10,  100, 1000]\n",
    "\n",
    "fig, axs = plt.subplots(int(np.sqrt(len(Nobs))), int(np.sqrt(len(Nobs))), figsize=(15,15))\n",
    "\n",
    "for N, ax in zip (Nobs, axs.ravel()):\n",
    "    logL=0\n",
    "    parabula=0\n",
    "    \n",
    "    for i in range(N):\n",
    "        # compute the joint likelihood by accumulating the various factors\n",
    "    \n",
    "    # Shift the functions so that they both have the global minimum at zero\n",
    "    \n",
    "    \n",
    "    # Plot\n",
    "    \n",
    "    ax.plot(lambdas, m2lnL, ls='-', c='blue', label='Exact MLE')\n",
    "    ax.plot(lambdas, parabula, ls='--', c='black', label='Gaussian approximation')\n",
    "    ax.set_ylabel('-2 lnL($\\lambda$) [a.u.]')\n",
    "    ax.set_xlabel('$\\lambda$')\n",
    "    ax.set_ylim(0,5)\n",
    "    ax.set_title('Nuclear decay with $t_{obs}=1$ and $N_{obs}=%s$'%N)\n",
    "    \n",
    "    \n"
   ]
  },
  {
   "cell_type": "markdown",
   "metadata": {},
   "source": [
    "The case of N observations each different from each other can be easily derived from this one by taking the formula for the factorized log likelihood and using in each factor the proper $t_{obs}$ instead of always $t_{obs}=1$ as we did above.\n",
    "\n",
    "Try now to compute the log likelihood when the observations are:"
   ]
  },
  {
   "cell_type": "code",
   "execution_count": null,
   "metadata": {},
   "outputs": [],
   "source": [
    "from random import sample\n",
    "\n",
    "the_pdf = thepdf(np.linspace(())\n",
    "Nobs = [ [1], [ random.sample( thepdf(  ))]  ]"
   ]
  }
 ],
 "metadata": {
  "kernelspec": {
   "display_name": "Python 3",
   "language": "python",
   "name": "python3"
  },
  "language_info": {
   "codemirror_mode": {
    "name": "ipython",
    "version": 3
   },
   "file_extension": ".py",
   "mimetype": "text/x-python",
   "name": "python",
   "nbconvert_exporter": "python",
   "pygments_lexer": "ipython3",
   "version": "3.8.6"
  }
 },
 "nbformat": 4,
 "nbformat_minor": 4
}
