{
 "cells": [
  {
   "cell_type": "markdown",
   "metadata": {},
   "source": [
    "# The Central Limit Theorem\n",
    "\n",
    "Author: Jake VanderPlas\n",
    "License: BSD\n",
    "The figure produced by this code is published in the textbook \"Statistics, Data Mining, and Machine Learning in Astronomy\" (2013). For more information, see http://astroML.github.com . To report a bug or issue, use the following forum https://groups.google.com/forum/#!forum/astroml-general \n",
    "\n",
    "Modified by Pietro Vischia for use in a Statistics Course (to make the number of generated data configurable, and to hide the predefined values in the M array, and to make nomenclature consistent with the slides (N-->M) )"
   ]
  },
  {
   "cell_type": "code",
   "execution_count": 7,
   "metadata": {},
   "outputs": [],
   "source": [
    "import numpy as np\n",
    "from matplotlib import pyplot as plt\n",
    "from scipy.stats import norm"
   ]
  },
  {
   "cell_type": "markdown",
   "metadata": {},
   "source": [
    "We want to test how good is the gaussian approximation provided by the Central Limit Theorem.\n",
    "\n"
   ]
  },
  {
   "cell_type": "code",
   "execution_count": 12,
   "metadata": {},
   "outputs": [],
   "source": [
    "# Generate uniform samples\n",
    "# M is the number of random variables that are averaged\n",
    "# i.e. Q = \\sum_{i=1}^{M} x_i\n",
    "\n",
    "M = [1, 2, 5, 10]"
   ]
  },
  {
   "cell_type": "code",
   "execution_count": 16,
   "metadata": {},
   "outputs": [],
   "source": [
    "# Set the number of data to generate, and generate the data\n",
    "\n",
    "Ndata = int(1000)\n",
    "\n",
    "np.random.seed(42)\n",
    "# generate random data"
   ]
  },
  {
   "cell_type": "code",
   "execution_count": null,
   "metadata": {},
   "outputs": [],
   "source": [
    "\n",
    "#------------------------------------------------------------\n",
    "# Plot the results\n",
    "fig = plt.figure(figsize=(5, 5))\n",
    "fig.subplots_adjust(hspace=0.05)\n",
    "\n",
    "for i in range(len(M)):\n",
    "    ax = fig.add_subplot(len(M), 1, i + 1)\n",
    "\n",
    "    # take the mean of the first N[i] samples\n",
    "    ...\n",
    "\n",
    "    # histogram the data\n",
    "    ax.hist(x_i, bins=np.linspace(0, 1, 101),\n",
    "            histtype='stepfilled', alpha=0.5, density=True)\n",
    "\n",
    "    # plot the expected gaussian pdf\n",
    "    ...\n",
    "\n",
    "    ax.set_xlim(0.0, 1.0)\n",
    "    ax.set_ylim(0.001, None)\n",
    "\n",
    "    ax.xaxis.set_major_locator(plt.MultipleLocator(0.2))\n",
    "    ax.yaxis.set_major_locator(plt.MaxNLocator(5))\n",
    "\n",
    "    ax.text(0.99, 0.95, r\"$M = %i$\" % M[i],\n",
    "            ha='right', va='top', transform=ax.transAxes)\n",
    "\n",
    "    if i == len(M) - 1:\n",
    "        ax.xaxis.set_major_formatter(plt.FormatStrFormatter('%.4f'))\n",
    "        ax.set_xlabel(r'$x$')\n",
    "    else:\n",
    "        ax.xaxis.set_major_formatter(plt.NullFormatter())\n",
    "\n",
    "    ax.set_ylabel('$p(x)$')\n",
    "\n",
    "plt.show()\n"
   ]
  },
  {
   "cell_type": "code",
   "execution_count": null,
   "metadata": {},
   "outputs": [],
   "source": []
  }
 ],
 "metadata": {
  "kernelspec": {
   "display_name": "Python 3",
   "language": "python",
   "name": "python3"
  },
  "language_info": {
   "codemirror_mode": {
    "name": "ipython",
    "version": 3
   },
   "file_extension": ".py",
   "mimetype": "text/x-python",
   "name": "python",
   "nbconvert_exporter": "python",
   "pygments_lexer": "ipython3",
   "version": "3.8.6"
  }
 },
 "nbformat": 4,
 "nbformat_minor": 4
}
