{
 "cells": [
  {
   "cell_type": "markdown",
   "metadata": {},
   "source": [
    "\n",
    "# Testing the range of validity of the Wilks theorem\n",
    "\n",
    "Credit to https://stephens999.github.io/fiveMinuteStats/wilks.html for the original R version of this script\n"
   ]
  },
  {
   "cell_type": "code",
   "execution_count": 1,
   "metadata": {},
   "outputs": [],
   "source": [
    "import os\n",
    "import sys\n",
    "import numpy as np\n",
    "import matplotlib.pyplot as plt\n",
    "import scipy.stats as ss\n",
    "import math\n",
    "\n",
    "%matplotlib inline"
   ]
  },
  {
   "cell_type": "markdown",
   "metadata": {},
   "source": [
    "Setup the number of pseudoexperiments, the number of observations per pseudoexperiment, and the true value of the parameter"
   ]
  },
  {
   "cell_type": "code",
   "execution_count": 4,
   "metadata": {},
   "outputs": [],
   "source": [
    "n_pseudoexperiments=50\n",
    "\n",
    "# Poisson lambda\n",
    "lam=0.4\n",
    "\n",
    "# Lazily do it in one go\n",
    "n_observations=[10, 100, 1000]\n"
   ]
  },
  {
   "cell_type": "markdown",
   "metadata": {},
   "source": [
    "Core of the algorithm.\n",
    "Generate N pseudoexperiments of nsampl observations each, and then plot.\n",
    "\n",
    "The likelihood ratio test statistic for a Poisson distribution is:\n",
    "\n",
    "$2N \\bar{X}(ln(\\bar{x}/\\lambda) + \\lambda - \\bar{x})$         \n"
   ]
  },
  {
   "cell_type": "code",
   "execution_count": null,
   "metadata": {},
   "outputs": [],
   "source": [
    "for nsampl in n_observations:\n",
    "    samples=np.zeros(n_pseudoexperiments)\n",
    "    print(\"Running pseudoexperiments for {nsampl} observations\".format(nsampl=nsampl))\n",
    "    for toy in range(1, n_pseudoexperiments):\n",
    "        # Generate nsampl observations from a Poisson(lam)\n",
    "        # Calculate the likelihood ratio test statistic and store it\n",
    "        \n",
    "    fix, ax = plt.subplots(1,1)\n",
    "    # It seems easier to normalize the histogram than the chi2\n",
    "    plt.hist(samples, density=True, color=\"black\")\n",
    "    plt.xlabel(\"Sampled values of log-likelihood ratio values\")\n",
    "    plt.ylabel(\"Frequency\")\n",
    "    plt.title(\"Log-likelihood ratio\")\n",
    "    x = np.linspace(0,20)\n",
    "    plt.plot(x,ss.chi2.pdf(x,1))\n",
    "    plt.show()"
   ]
  },
  {
   "cell_type": "markdown",
   "metadata": {},
   "source": []
  },
  {
   "cell_type": "code",
   "execution_count": null,
   "metadata": {},
   "outputs": [],
   "source": []
  }
 ],
 "metadata": {
  "kernelspec": {
   "display_name": "Python 3",
   "language": "python",
   "name": "python3"
  },
  "language_info": {
   "codemirror_mode": {
    "name": "ipython",
    "version": 3
   },
   "file_extension": ".py",
   "mimetype": "text/x-python",
   "name": "python",
   "nbconvert_exporter": "python",
   "pygments_lexer": "ipython3",
   "version": "3.8.6"
  }
 },
 "nbformat": 4,
 "nbformat_minor": 2
}
