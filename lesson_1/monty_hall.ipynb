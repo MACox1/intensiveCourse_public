{
 "cells": [
  {
   "cell_type": "markdown",
   "metadata": {},
   "source": [
    "# The Monty Hall Problem\n",
    "\n",
    "Copyright (c) Pietro Vischia, 2020\n",
    "\n",
    "The core routine *monty_from_tijms* is taken from the book \"Surprises in Probability\" by Henk Tijms (2019)"
   ]
  },
  {
   "cell_type": "markdown",
   "metadata": {},
   "source": [
    "### Welcome to the Monty Hall show!\n",
    "\n",
    "In this show, you can win a car, or you can win a goat.\n",
    "We assume that winning a car is desirable (you have a garage or can resell easily), and that winning a goat is not (too much hassle to host the goat even for selling it)\n",
    "\n",
    "You are presented with three closed doors: behind one of the doors there is the prize (the car), behind the other two doors there is a goat.\n",
    "\n",
    "The game proceeds like this:\n",
    "\n",
    "- You pick a door.\n",
    "\n",
    "- Monty Hall (who knows where the car is) will open a door, among the unchosen ones, that contains a goat.\n",
    "\n",
    "- You can now choose whether to keep your chosen door, or to switch to the other unopened door\n",
    "\n",
    "- Monty Hall now opens all the doors: if the car is behind your door of choice, you win it. Otherwise, you win a goat (and you don't want to)\n",
    "\n",
    "**Question:** what's the best strategy for you? Should you always maintain your initial choice? Should you always switch door? Or maybe it doesn't matter?\n",
    "\n",
    "Let's check this by building a simulation!"
   ]
  },
  {
   "cell_type": "code",
   "execution_count": 1,
   "metadata": {},
   "outputs": [],
   "source": [
    "from random import choice #takes an array as an input and gives one random pick as output\n",
    "# call it like: choice()\n",
    "# if you\n",
    "# import random\n",
    "# then call it like: random.choice()"
   ]
  },
  {
   "cell_type": "code",
   "execution_count": 18,
   "metadata": {},
   "outputs": [],
   "source": [
    "\n",
    "def monty_from_tijms(games=10000):\n",
    "    switch_wins=0 # Number of times switching door wins\n",
    "    stay_wins=0 # Number of times staying with the first chosen door wins\n",
    "    doors = [1, 2, 3]\n",
    "    for game in range(games): # Each game\n",
    "        prize_door = # randomly choose the door that contains the prize\n",
    "        chosen_door = # player picks a door at random\n",
    "        opened_door = # Monty Hall opens a non-prize non-chosen door\n",
    "        switch_door = # Select the door that would be chosen if switching\n",
    "        # Check if chosen_door would win, and add to counter\n",
    "        # Check if switch_door would win, and add to counter\n",
    "\n",
    "    print('Win rate with a \"don\\'t switch\" strategy:', stay_wins/games )\n",
    "    print('Win rate with a \"switch\" strategy:', switch_wins/games)\n",
    "        "
   ]
  },
  {
   "cell_type": "code",
   "execution_count": null,
   "metadata": {},
   "outputs": [],
   "source": [
    "# Run simulation\n",
    "monty_from_tijms(10000)"
   ]
  },
  {
   "cell_type": "markdown",
   "metadata": {},
   "source": [
    "We have now established that the best strategy is to always change door!\n",
    "\n",
    "The crucial bit for this is that Monty Hall knows exactly where the car is. \n",
    "\n",
    "**Question:** What's the best strategy if Monty Hall opened a door at random (opening the possibility that the opened door contains a car---in which case you don't win)?\n",
    "\n",
    "Let's check this by building another simulation!"
   ]
  },
  {
   "cell_type": "code",
   "execution_count": 20,
   "metadata": {},
   "outputs": [],
   "source": [
    "def ignorant_monty(games=10000):\n",
    "    switch_wins=0\n",
    "    stay_wins=0\n",
    "    open_wins=0\n",
    "    doors = [1, 2, 3]\n",
    "    for game in range(games):\n",
    "        prize_door = # randomly choose the door that contains the prize\n",
    "        chosen_door = # player picks a door at random\n",
    "        opened_door = # Monty Hall opens a non-chosen door. NOW HE RISKS OPENING THE PRIZE DOOR\n",
    "        switch_door = # Select the door that would be chosen if switching\n",
    "        # Check if chosen_door would win, and add to counter\n",
    "        # Check if switch_door would win, and add to counter\n",
    "        # Sanity check: check if the opened door wins, and add to counter\n",
    "    print('Win rate with a \"don\\'t switch\" strategy:', stay_wins/games )\n",
    "    print('Win rate with a \"switch\" strategy:', switch_wins/games)\n",
    "    print('Loose rate due to \"prize is behind opened door\":', open_wins/games)\n",
    "    print('Sum of rates:', (stay_wins+switch_wins+open_wins)/games)"
   ]
  },
  {
   "cell_type": "code",
   "execution_count": null,
   "metadata": {},
   "outputs": [],
   "source": [
    "# Run simulation\n",
    "ignorant_monty(10000)"
   ]
  },
  {
   "cell_type": "code",
   "execution_count": null,
   "metadata": {},
   "outputs": [],
   "source": []
  }
 ],
 "metadata": {
  "kernelspec": {
   "display_name": "Python 3",
   "language": "python",
   "name": "python3"
  },
  "language_info": {
   "codemirror_mode": {
    "name": "ipython",
    "version": 3
   },
   "file_extension": ".py",
   "mimetype": "text/x-python",
   "name": "python",
   "nbconvert_exporter": "python",
   "pygments_lexer": "ipython3",
   "version": "3.8.6"
  }
 },
 "nbformat": 4,
 "nbformat_minor": 4
}
