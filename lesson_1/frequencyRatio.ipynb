{
 "cells": [
  {
   "cell_type": "code",
   "execution_count": 2,
   "metadata": {},
   "outputs": [],
   "source": [
    "# Copyright (c) 2020, Pietro Vischia pietro.vischia@cern.ch\n",
    "\n",
    "import random\n",
    "from matplotlib import pyplot as plt\n"
   ]
  },
  {
   "cell_type": "code",
   "execution_count": 3,
   "metadata": {},
   "outputs": [],
   "source": [
    "# Simulate the roll of a die\n",
    "def die_roll():\n",
    "    # the roll can be simulated using the function random.randint(lower, upper) \n",
    "    return roll\n",
    "\n",
    "# Check if a given roll is even or odd\n",
    "\n",
    "def is_even(roll):\n",
    "    # Check if the roll has resulted in an even or odd number\n",
    "    # (remember that the operation % gives the remainder of a division)\n",
    "    return truth_value\n"
   ]
  },
  {
   "cell_type": "code",
   "execution_count": null,
   "metadata": {},
   "outputs": [],
   "source": [
    "\n",
    "# Define number of experiments\n",
    "\n",
    "N = [ ] # an array spanning from a handful rolls to about 100k rolls\n",
    "\n",
    "\n",
    "freqs = [ 0 for n in N ] # Array of frequencies\n",
    "\n",
    "for i in range(len(N)):\n",
    "    # For each set of experiments (that you run n_i times), throw the die n_i times and store the empirical frequency\n",
    "    \n",
    "    freqs[i] = n_even/N[i]\n",
    "\n",
    "# Plot the results\n",
    "plt.plot(N,freqs)\n",
    "plt.xlabel('Number of experiments')\n",
    "plt.xscale('log')\n",
    "plt.ylabel('Frequency of results ')\n",
    "\n",
    "plt.show()\n"
   ]
  },
  {
   "cell_type": "markdown",
   "metadata": {},
   "source": [
    "The frequency seems to stabilize after about $10^4$ iterations, but is that really so?\n"
   ]
  },
  {
   "cell_type": "code",
   "execution_count": null,
   "metadata": {},
   "outputs": [],
   "source": [
    "# Re-plot the results, this time zooming the y axis near 0.5\n",
    "# you can use plt.ylim( ymin, ymax)\n"
   ]
  },
  {
   "cell_type": "code",
   "execution_count": null,
   "metadata": {},
   "outputs": [],
   "source": [
    "# Optional print a table of frequencies and of differences w.r.t. to the 0.5 frequency\n"
   ]
  },
  {
   "cell_type": "code",
   "execution_count": null,
   "metadata": {},
   "outputs": [],
   "source": [
    "# Optional plot the deviation from 0.5 of the frequencies, as a function of the number of tosses\n"
   ]
  },
  {
   "cell_type": "code",
   "execution_count": null,
   "metadata": {},
   "outputs": [],
   "source": []
  }
 ],
 "metadata": {
  "kernelspec": {
   "display_name": "Python 3",
   "language": "python",
   "name": "python3"
  },
  "language_info": {
   "codemirror_mode": {
    "name": "ipython",
    "version": 3
   },
   "file_extension": ".py",
   "mimetype": "text/x-python",
   "name": "python",
   "nbconvert_exporter": "python",
   "pygments_lexer": "ipython3",
   "version": "3.8.6"
  }
 },
 "nbformat": 4,
 "nbformat_minor": 4
}
